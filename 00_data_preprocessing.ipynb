{
 "cells": [
  {
   "cell_type": "markdown",
   "id": "2434a683",
   "metadata": {},
   "source": [
    "# Data preprocessing"
   ]
  },
  {
   "cell_type": "code",
   "execution_count": null,
   "id": "bcefa6fa",
   "metadata": {},
   "outputs": [],
   "source": [
    "# Disable some console warnings\n",
    "import os\n",
    "os.environ['TF_XLA_FLAGS'] = '--tf_xla_enable_xla_devices'\n",
    "os.environ['TF_CPP_MIN_LOG_LEVEL'] = '3'"
   ]
  },
  {
   "cell_type": "code",
   "execution_count": null,
   "id": "af043357",
   "metadata": {},
   "outputs": [],
   "source": [
    "import numpy as np\n",
    "\n",
    "from sklearn.preprocessing import LabelEncoder \n",
    "from sklearn.model_selection import train_test_split\n",
    "\n",
    "from tensorflow.keras.preprocessing.image import img_to_array, load_img\n",
    "from keras.utils import to_categorical"
   ]
  },
  {
   "cell_type": "markdown",
   "id": "1b44f731",
   "metadata": {},
   "source": [
    "## Configuration"
   ]
  },
  {
   "cell_type": "code",
   "execution_count": null,
   "id": "86514582",
   "metadata": {},
   "outputs": [],
   "source": [
    "DATA_DIR = \"data\"\n",
    "\n",
    "DATA_JPG_DIR = DATA_DIR + '/augmented/jpg_v02'\n",
    "DATA_NPY_DIR = DATA_DIR + '/npy/'\n",
    "\n",
    "IMAGE_WIDTH = 64\n",
    "IMAGE_HEIGHT = 64\n",
    "TEST_SIZE = 0.2\n",
    "NUM_CLASSES = 52\n",
    "\n",
    "CREATE_DATASET = True"
   ]
  },
  {
   "cell_type": "markdown",
   "id": "d9c482d3",
   "metadata": {},
   "source": [
    "## Create dataset"
   ]
  },
  {
   "cell_type": "code",
   "execution_count": null,
   "id": "28338967",
   "metadata": {},
   "outputs": [],
   "source": [
    "image_paths = []\n",
    "labels = []\n",
    "\n",
    "def preprocess_image(image_path):\n",
    "    img = load_img(image_path, target_size=(IMAGE_WIDTH, IMAGE_HEIGHT))\n",
    "    img_array = img_to_array(img) / 255.0  # Normalize pixel values\n",
    "    return img_array"
   ]
  },
  {
   "cell_type": "code",
   "execution_count": null,
   "id": "0fb8df0f",
   "metadata": {},
   "outputs": [],
   "source": [
    "if CREATE_DATASET:\n",
    "\n",
    "    for label in os.listdir(DATA_JPG_DIR):\n",
    "        label_dir = os.path.join(DATA_JPG_DIR, label)\n",
    "        for image_file in os.listdir(label_dir):\n",
    "            image_paths.append(os.path.join(label_dir, image_file))\n",
    "            labels.append(label)\n",
    "\n",
    "    X_train_val, X_test, y_train_val, y_test = train_test_split(\n",
    "        image_paths, labels, test_size=TEST_SIZE, random_state=42, stratify=labels)\n",
    "\n",
    "\n",
    "    # Encode labels\n",
    "    label_encoder = LabelEncoder()\n",
    "    label_encoder.fit(y_train_val)\n",
    "    y_train_val_encoded = label_encoder.transform(y_train_val)\n",
    "    y_test_encoded = label_encoder.transform(y_test)\n",
    "\n",
    "\n",
    "    # Convert integer labels to categorical format\n",
    "    y_train_val = to_categorical(y_train_val_encoded, NUM_CLASSES)\n",
    "\n",
    "    # Convert integer labels to categorical format\n",
    "    y_test = to_categorical(y_test_encoded, NUM_CLASSES)\n",
    "\n",
    "    # Verify one-hot encoding\n",
    "    #print(\"Shape of y_train_val:\", y_train_val.shape)\n",
    "    #print(\"Shape of y_test:\", y_test.shape)\n",
    "\n",
    "    X_train_val = [preprocess_image(image_path) for image_path in X_train_val]\n",
    "    X_test = [preprocess_image(image_path) for image_path in X_test]\n",
    "\n",
    "    X_train_val = np.array(X_train_val)\n",
    "    X_test = np.array(X_test)\n",
    "    \n",
    "    classes = label_encoder.classes_\n",
    "\n",
    "\n",
    "    # Save the preprocessed data\n",
    "    np.save(DATA_NPY_DIR + 'X_train_val.npy', X_train_val)\n",
    "    np.save(DATA_NPY_DIR + 'X_test.npy', X_test)\n",
    "    np.save(DATA_NPY_DIR + 'y_train_val.npy', y_train_val)\n",
    "    np.save(DATA_NPY_DIR + 'y_test.npy', y_test)\n",
    "    np.save(DATA_NPY_DIR + 'classes.npy', classes)\n",
    "    \n",
    "else:\n",
    "    X_train_val = np.load(DATA_NPY_DIR + 'X_train_val.npy')\n",
    "    X_test = np.load(DATA_NPY_DIR + 'X_test.npy')\n",
    "    y_train_val = np.load(DATA_NPY_DIR + 'y_train_val.npy')\n",
    "    y_test = np.load(DATA_NPY_DIR + 'y_test.npy')\n",
    "    classes = np.load(DATA_NPY_DIR + 'classes.npy', allow_pickle=True)"
   ]
  },
  {
   "cell_type": "code",
   "execution_count": null,
   "id": "4c74b034",
   "metadata": {},
   "outputs": [],
   "source": [
    "print('Train and validation set:', X_train_val.shape[0])\n",
    "print('Test set:                ', X_test.shape[0])\n",
    "print('Classes:                 ', classes.shape[0])"
   ]
  }
 ],
 "metadata": {
  "kernelspec": {
   "display_name": "Python 3 (ipykernel)",
   "language": "python",
   "name": "python3"
  },
  "language_info": {
   "codemirror_mode": {
    "name": "ipython",
    "version": 3
   },
   "file_extension": ".py",
   "mimetype": "text/x-python",
   "name": "python",
   "nbconvert_exporter": "python",
   "pygments_lexer": "ipython3",
   "version": "3.10.10"
  },
  "toc": {
   "base_numbering": 1,
   "nav_menu": {},
   "number_sections": true,
   "sideBar": true,
   "skip_h1_title": false,
   "title_cell": "Table of Contents",
   "title_sidebar": "Contents",
   "toc_cell": false,
   "toc_position": {
    "height": "calc(100% - 180px)",
    "left": "10px",
    "top": "150px",
    "width": "361.267px"
   },
   "toc_section_display": true,
   "toc_window_display": true
  }
 },
 "nbformat": 4,
 "nbformat_minor": 5
}
